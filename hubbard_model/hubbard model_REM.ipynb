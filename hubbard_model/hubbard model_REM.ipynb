{
 "cells": [
  {
   "cell_type": "code",
   "execution_count": 91,
   "metadata": {},
   "outputs": [],
   "source": [
    "import qiskit\n",
    "from qiskit import QuantumCircuit\n",
    "from qiskit.circuit.library import XXPlusYYGate\n",
    "from qiskit.opflow import I, Z, X, Y\n",
    "import numpy as np\n",
    "from qiskit.circuit import ParameterVector\n",
    "from qiskit.circuit.library import CPhaseGate\n",
    "from qiskit.algorithms.minimum_eigensolvers import VQE\n",
    "from qiskit.algorithms.optimizers import SPSA\n",
    "from qiskit.providers.basicaer import QasmSimulatorPy  \n",
    "from qiskit_ibm_runtime import QiskitRuntimeService\n",
    "from qiskit_ibm_runtime import Session, Sampler, Options, Estimator\n",
    "\n",
    "from qiskit.utils import algorithm_globals\n",
    "from qiskit.primitives import Sampler as Aer_Sam\n",
    "from qiskit.compiler import transpile\n",
    "from qiskit.circuit.library import PauliEvolutionGate\n",
    "from qiskit.providers.fake_provider import *\n",
    "from qiskit.primitives import BackendSampler\n",
    "from qiskit.providers.fake_provider import FakeCairoV2\n",
    "from qiskit.providers.fake_provider import FakeNairobiV2"
   ]
  },
  {
   "cell_type": "code",
   "execution_count": 2,
   "metadata": {},
   "outputs": [],
   "source": [
    "from qiskit.primitives import BackendEstimator\n",
    "from qiskit.primitives import BackendSampler\n",
    "from qiskit_aer.primitives import Estimator as Aer_Est\n",
    "from scipy.optimize import curve_fit\n",
    "import matplotlib.pyplot as plt"
   ]
  },
  {
   "cell_type": "code",
   "execution_count": 3,
   "metadata": {},
   "outputs": [],
   "source": [
    "from qiskit_ibm_runtime import QiskitRuntimeService\n",
    "\n",
    "# Save your credentials on disk.\n",
    "QiskitRuntimeService.save_account(channel='ibm_quantum' ,overwrite=True , token='039bdd576d3eebd22ebd6d4b75ea52f103bb1d675a648692312a2204405486c1481afa854b62f7ce7fa51231121e6f3066ec73feebfb5a7e983939fdadd35758')\n"
   ]
  },
  {
   "cell_type": "code",
   "execution_count": 4,
   "metadata": {},
   "outputs": [],
   "source": [
    "service = QiskitRuntimeService()"
   ]
  },
  {
   "cell_type": "code",
   "execution_count": 5,
   "metadata": {},
   "outputs": [],
   "source": [
    "from qiskit_ibm_provider import IBMProvider\n",
    "\n",
    "# Save your credentials on disk.\n",
    "IBMProvider.save_account(overwrite=True , token='039bdd576d3eebd22ebd6d4b75ea52f103bb1d675a648692312a2204405486c1481afa854b62f7ce7fa51231121e6f3066ec73feebfb5a7e983939fdadd35758')\n",
    "\n",
    "provider = IBMProvider()"
   ]
  },
  {
   "cell_type": "code",
   "execution_count": 6,
   "metadata": {},
   "outputs": [
    {
     "data": {
      "text/plain": [
       "[<IBMBackend('ibm_perth')>,\n",
       " <IBMBackend('ibm_brisbane')>,\n",
       " <IBMBackend('simulator_extended_stabilizer')>,\n",
       " <IBMBackend('simulator_mps')>,\n",
       " <IBMBackend('simulator_statevector')>,\n",
       " <IBMBackend('simulator_stabilizer')>,\n",
       " <IBMBackend('ibm_nairobi')>,\n",
       " <IBMBackend('ibm_lagos')>,\n",
       " <IBMBackend('ibmq_qasm_simulator')>]"
      ]
     },
     "execution_count": 6,
     "metadata": {},
     "output_type": "execute_result"
    }
   ],
   "source": [
    "service.backends()"
   ]
  },
  {
   "cell_type": "code",
   "execution_count": 7,
   "metadata": {},
   "outputs": [
    {
     "data": {
      "text/plain": [
       "\"for i in range(10):\\n    qc = QuantumCircuit(10)\\n    qc.x(i)\\n    res = get_expectaion_value_real(Measure_basis(10),qc)\\n    exa = get_expectaion_value_Sim(Measure_basis(10),qc)\\n    print(f'exact : {exa}')\\n    print(res)\""
      ]
     },
     "execution_count": 7,
     "metadata": {},
     "output_type": "execute_result"
    }
   ],
   "source": [
    "from qiskit.providers.aer import AerSimulator\n",
    "backend = service.get_backend('ibm_brisbane')\n",
    "backend_sim = AerSimulator.from_backend(backend)\n",
    "\"\"\"for i in range(10):\n",
    "    qc = QuantumCircuit(10)\n",
    "    qc.x(i)\n",
    "    res = get_expectaion_value_real(Measure_basis(10),qc)\n",
    "    exa = get_expectaion_value_Sim(Measure_basis(10),qc)\n",
    "    print(f'exact : {exa}')\n",
    "    print(res)\"\"\"\n"
   ]
  },
  {
   "cell_type": "code",
   "execution_count": 8,
   "metadata": {},
   "outputs": [],
   "source": [
    "qc=QuantumCircuit(3)"
   ]
  },
  {
   "cell_type": "code",
   "execution_count": 9,
   "metadata": {},
   "outputs": [],
   "source": [
    "from qiskit.algorithms.optimizers import COBYLA\n",
    "from qiskit.providers.aer import AerSimulator\n",
    "backend=FakeCairoV2()\n"
   ]
  },
  {
   "cell_type": "code",
   "execution_count": 10,
   "metadata": {},
   "outputs": [
    {
     "data": {
      "text/plain": [
       "[<IBMBackend('ibm_perth')>,\n",
       " <IBMBackend('ibm_brisbane')>,\n",
       " <IBMBackend('simulator_extended_stabilizer')>,\n",
       " <IBMBackend('simulator_mps')>,\n",
       " <IBMBackend('simulator_statevector')>,\n",
       " <IBMBackend('simulator_stabilizer')>,\n",
       " <IBMBackend('ibm_nairobi')>,\n",
       " <IBMBackend('ibm_lagos')>,\n",
       " <IBMBackend('ibmq_qasm_simulator')>]"
      ]
     },
     "execution_count": 10,
     "metadata": {},
     "output_type": "execute_result"
    }
   ],
   "source": [
    "service.backends()"
   ]
  },
  {
   "cell_type": "code",
   "execution_count": 11,
   "metadata": {},
   "outputs": [],
   "source": [
    "def Foward_diffrentiaion(list, h):\n",
    "    if len(list) != 5:\n",
    "        print(\"lenth is not proper\")\n",
    "        raise NotImplementedError\n",
    "    else:\n",
    "        return (1/12*list[0]-2/3*list[1]-0*list[2]+2/3*list[3]-1/12*list[4])/h\n",
    "\n",
    "\n",
    "def Foward_diffrentiaion_SC(list, h):\n",
    "    if len(list) != 5:\n",
    "        print(\"lenth is not proper\")\n",
    "        raise NotImplementedError\n",
    "    else:\n",
    "        return (-1/12*list[0]+4/3*list[1]-5/2*list[2]+4/3*list[3]-1/12*list[4])/h\n",
    "\n",
    "\n",
    "def fit_curve_exp(my_function, x, y):\n",
    "    b = -Foward_diffrentiaion_SC(y, 1)/Foward_diffrentiaion(y, 1)\n",
    "    if b > 5:\n",
    "        b = 5\n",
    "    elif b < -5:\n",
    "        b = -5\n",
    "    a = -Foward_diffrentiaion(y, 1)/b\n",
    "    c = y[2]-a\n",
    "    value1, cov1 = curve_fit(my_function, x, y,\n",
    "                             maxfev=20000, p0=[a, b, y[2]-a])\n",
    "    e = Foward_diffrentiaion_SC(y, 1)/Foward_diffrentiaion(y, 1)\n",
    "    if e > 5:\n",
    "        e = 5\n",
    "    elif e < -5:\n",
    "        e = -5\n",
    "    d = -Foward_diffrentiaion(y, 1)/e\n",
    "    f = y[2]-d\n",
    "    value2, cov2 = curve_fit(my_function, x, y,\n",
    "                             maxfev=20000, p0=[d, e, y[2]-f])\n",
    "    if np.sum(cov1**2) > np.sum(cov2**2):\n",
    "        value = value2\n",
    "    else:\n",
    "        value = value1\n",
    "    return value"
   ]
  },
  {
   "cell_type": "code",
   "execution_count": 12,
   "metadata": {},
   "outputs": [],
   "source": [
    "def Hamiltonian(num_sites,U,t):\n",
    "    a = []\n",
    "    a_ = []\n",
    "    for i in range(num_sites*2):\n",
    "        cre = ((X-1j*Y)/2)\n",
    "        ani = ((X+1j*Y)/2)\n",
    "        if i ==0:\n",
    "            temp = 1\n",
    "        else : \n",
    "            temp = Z\n",
    "        for j in range(i-1):\n",
    "            temp = temp^Z\n",
    "        a.append(temp^cre^(I^(2*num_sites-i-1)))\n",
    "        a_.append(temp^ani^(I^(2*num_sites-i-1)))\n",
    "    ## number_op\n",
    "    n=[]\n",
    "    for i in range(num_sites):\n",
    "        n.append(U*((a[i]@a_[i])@(a[i+num_sites]@a_[i+num_sites])))\n",
    "    ## cross_op\n",
    "    Cross=[]\n",
    "    for i in range(num_sites-1):\n",
    "        Cross.append(-t*((a_[i]@a[i+1])+(a_[i+1]@a[i])))\n",
    "    for i in range(num_sites-1):\n",
    "        Cross.append(-t*(a_[i+num_sites]@a[i+1+num_sites]+a_[i+num_sites+1]@a[i+num_sites]))\n",
    "    Hamiltonian=0*I^num_sites*2\n",
    "    for i in Cross:\n",
    "        Hamiltonian+=i\n",
    "    for i in n:\n",
    "        Hamiltonian+=i\n",
    "    return Hamiltonian.reduce()\n",
    "        "
   ]
  },
  {
   "cell_type": "code",
   "execution_count": 13,
   "metadata": {},
   "outputs": [],
   "source": [
    "def Hamiltonian1(Q_num,J=1,l=1,h=1):\n",
    "    H = []\n",
    "    for i in range(Q_num-1):\n",
    "        if i == 0:\n",
    "            op = -J*((Z ^ Z)+h*(l*I ^ X)+(I ^ Z))\n",
    "        else:\n",
    "            op = I\n",
    "        for j in range(1, Q_num-1):\n",
    "            if j == i:\n",
    "                op = op ^ (-J*((Z ^ Z)+h*(l*I ^ X)+(I ^ Z)))\n",
    "            else:\n",
    "                op = op ^ I\n",
    "        H.append(op)\n",
    "    A = -h*X\n",
    "    for i in range(Q_num-1):\n",
    "        A = A ^ I\n",
    "    for i in H:\n",
    "        A = A+i\n",
    "    B = -J*Z\n",
    "    for i in range(Q_num-1):\n",
    "        B = B ^ I\n",
    "    A = A+B\n",
    "\n",
    "    return(A)"
   ]
  },
  {
   "cell_type": "code",
   "execution_count": 192,
   "metadata": {},
   "outputs": [],
   "source": [
    "from qiskit.opflow import StateFn, PauliExpectation, CircuitSampler\n",
    "from qiskit_aer import AerSimulator\n",
    "def get_expectaion_value_real(Ham,time_H,shots = 5000):\n",
    "    estimator = BackendEstimator(backend_sim)\n",
    "    estimator.set_transpile_options(optimization_level=0)\n",
    "    time_H=transpile(time_H,optimization_level=0)\n",
    "    job = estimator.run(circuits=time_H,observables=[Ham],shots=shots,optimization_level=0)\n",
    "    result=job.result().values[0]\n",
    "    return result\n",
    "def get_Prob_real(time_H):\n",
    "    sampler = BackendEstimator(backend = backend_sim)\n",
    "    job = sampler.run(time_H)\n",
    "    result=job.result()\n",
    "    return result"
   ]
  },
  {
   "cell_type": "code",
   "execution_count": 15,
   "metadata": {},
   "outputs": [],
   "source": [
    "def my_function(x, a, b, c):\n",
    "    return a * np.exp(-b * x) + c"
   ]
  },
  {
   "cell_type": "code",
   "execution_count": 16,
   "metadata": {},
   "outputs": [],
   "source": [
    "\n",
    "def get_expectaion_value_Sim(Ham,time_H):\n",
    "    estimator = Aer_Est(run_options={'shots':50000})\n",
    "    job = estimator.run(circuits=time_H,observables=[Ham])\n",
    "    result=job.result().values\n",
    "    return result\n",
    "def get_Prob_Sim(time_H):\n",
    "    time_H.measure_all()\n",
    "    sampler = Aer_Sam()\n",
    "    job = sampler.run(time_H)\n",
    "    result=job.result()\n",
    "    return result\n",
    "def get_expectaion_value_IBMQ(Ham, qc_list):\n",
    "    Hams=[]\n",
    "    for i in range(len(qc_list)):\n",
    "        Hams.append(Ham)\n",
    "    options=Options()\n",
    "    options.optimization_level = 0\n",
    "    options.shots =20000\n",
    "    with Session(service=service, backend=backend) as session:\n",
    "        estimator=Estimator(session=session,options=options)\n",
    "        job = estimator.run(circuits=qc_list,observables=Hams)\n",
    "        result = job.result().values\n",
    "    return result"
   ]
  },
  {
   "cell_type": "code",
   "execution_count": 17,
   "metadata": {},
   "outputs": [],
   "source": [
    "def sampler_result_IBMQ(qc_list,parameters=None):\n",
    "    temp_list = []\n",
    "    for i in qc_list:\n",
    "        if i.clbits == 0:\n",
    "            i.measure_all()\n",
    "            temp_list.append(i)\n",
    "    options=Options()\n",
    "    options.optimization_level = 0\n",
    "    options.shots =20000\n",
    "    with Session(service=service, backend=backend) as session:\n",
    "        sampler=Sampler(session=session,options=options)\n",
    "        job = sampler.run(circuits=temp_list)\n",
    "        result_list = job.result().quasi_dists\n",
    "    resultant_list = []\n",
    "    for result in result_list:\n",
    "        key_values = list(result.keys())\n",
    "        values = list(result.values())\n",
    "        resultant = {}\n",
    "        index = 0\n",
    "        for i in key_values:\n",
    "            temp = format(i,'b').zfill(int(qc.num_qubits))\n",
    "            resultant[temp] = values[index]\n",
    "            index += 1\n",
    "        resultant_list.append(resultant)\n",
    "    return resultant_list\n",
    "    "
   ]
  },
  {
   "cell_type": "code",
   "execution_count": 18,
   "metadata": {},
   "outputs": [],
   "source": [
    "def Measure_basis(Q_num):\n",
    "    H = Z ^ (I ^ (Q_num-1))\n",
    "    for i in range(Q_num-1):\n",
    "        A = I\n",
    "        for j in range(Q_num-1):\n",
    "            k = j\n",
    "            if k != i:\n",
    "                A = A ^ I\n",
    "            else:\n",
    "                A = A ^ Z\n",
    "\n",
    "        H = H+A\n",
    "\n",
    "    return(H)\n"
   ]
  },
  {
   "cell_type": "code",
   "execution_count": 19,
   "metadata": {},
   "outputs": [],
   "source": [
    "def HV_ansatz(num_sites,reps=1):\n",
    "    qc = QuantumCircuit(num_sites*2,name = 'HV_ansatz')\n",
    "    parameter = ParameterVector('theta1',num_sites*reps)\n",
    "    parameter1 =  ParameterVector('theta2',(num_sites-1)*2*reps)\n",
    "    parameter2 =  ParameterVector('theta3',(num_sites-1)*2*reps)\n",
    "    for j in range(reps):\n",
    "        for i in range(num_sites-1):\n",
    "            temp = i+(num_sites-1)*j*2\n",
    "            qc.append(XXPlusYYGate(parameter1[temp],parameter2[temp]),[i,i+1])\n",
    "        for i in range(num_sites-1):\n",
    "            temp = i+(num_sites-1)*j*2\n",
    "            qc.append(XXPlusYYGate(parameter1[temp+num_sites-1],parameter2[temp+num_sites-1]),[i+num_sites,i+1+num_sites])\n",
    "        for i in range(num_sites):\n",
    "            temp = i+(num_sites)*j\n",
    "            qc.append(CPhaseGate(parameter[temp]),[i,i+num_sites])\n",
    "    return qc"
   ]
  },
  {
   "cell_type": "code",
   "execution_count": 20,
   "metadata": {},
   "outputs": [],
   "source": [
    "def sampler_result(qc,parameters=None):\n",
    "    temp1 = QuantumCircuit(qc.num_qubits)\n",
    "    if parameters!=None:\n",
    "        for i in parameters:\n",
    "            temp1 = qc.bind_parameters(parameters)\n",
    "    else:\n",
    "        temp1 = qc\n",
    "    temp1.measure_all()\n",
    "    sampler = BackendSampler(backend=backend_sim)\n",
    "    job = sampler.run(temp1)\n",
    "    result = job.result().quasi_dists[0]\n",
    "    key_values = list(result.keys())\n",
    "    values = list(result.values())\n",
    "    resultant = {}\n",
    "    index = 0\n",
    "    for i in key_values:\n",
    "        temp = format(i,'b').zfill(int(qc.num_qubits))\n",
    "        resultant[temp] = values[index]\n",
    "        index += 1\n",
    "\n",
    "    return resultant\n",
    "    "
   ]
  },
  {
   "cell_type": "code",
   "execution_count": 140,
   "metadata": {},
   "outputs": [],
   "source": [
    "class hubard_trotter():\n",
    "    def __init__(self,num_qubits, step, tau,Hamiltonian,initial_state=None,backend=None):\n",
    "        self.num = num_qubits\n",
    "        self.t = tau/step\n",
    "        self.gate = PauliEvolutionGate(Hamiltonian,time=self.t)\n",
    "        if initial_state == None:\n",
    "            self.init = '0'*self.num\n",
    "        else:\n",
    "            self.init = initial_state\n",
    "        if backend == None:\n",
    "            self.backend = service.backends(simulator=True)[0]\n",
    "        else : \n",
    "            self.backend = backend\n",
    "        self.reps = step\n",
    "    def circ(self):\n",
    "        qc = QuantumCircuit(self.num)\n",
    "        qc.initialize(self.init)\n",
    "        for i in range(self.reps):\n",
    "            qc.append(self.gate,qc.qubits)\n",
    "        return qc\n",
    "    def extra_polate(self,reps):\n",
    "        qc = self.circ()\n",
    "        temp1 = qc.qasm()\n",
    "        temp = temp1.split('\\n')\n",
    "        temp_temp = []\n",
    "        for i in temp:\n",
    "            temp = i.split(' ')\n",
    "            if temp[0]=='cx':\n",
    "                temp_temp.append(i)\n",
    "                for j in range(reps):\n",
    "                    temp_temp.append(i)\n",
    "                    temp_temp.append(i)\n",
    "            else:\n",
    "                temp_temp.append(i)\n",
    "        temp_temp_conbine = '\\n'.join(temp_temp)\n",
    "        qc_result = QuantumCircuit(self.num)\n",
    "        qc_result = qc_result.from_qasm_str(temp_temp_conbine)\n",
    "        return qc_result\n"
   ]
  },
  {
   "cell_type": "code",
   "execution_count": 29,
   "metadata": {},
   "outputs": [],
   "source": [
    "def extra_polate_circ(circ,reps):\n",
    "        qc = circ\n",
    "        temp1 = qc.qasm()\n",
    "        temp = temp1.split('\\n')\n",
    "        temp_temp = []\n",
    "        for i in temp:\n",
    "            temp = i.split(' ')\n",
    "            if temp[0]=='cx':\n",
    "                temp_temp.append(i)\n",
    "                for j in range(reps):\n",
    "                    temp_temp.append(i)\n",
    "                    temp_temp.append(i)\n",
    "            else:\n",
    "                temp_temp.append(i)\n",
    "        temp_temp_conbine = '\\n'.join(temp_temp)\n",
    "        qc_result = QuantumCircuit(qc.num_qubits)\n",
    "        qc_result = qc_result.from_qasm_str(temp_temp_conbine)\n",
    "        return qc_result"
   ]
  },
  {
   "cell_type": "code",
   "execution_count": 22,
   "metadata": {},
   "outputs": [],
   "source": [
    "class IBM_analy():\n",
    "    def __init__(self,values,round = 3, name = None, polate_num = None):\n",
    "        if len(values)==0:\n",
    "            self.std = []\n",
    "            self.mean = []\n",
    "        else:\n",
    "            self.std = [np.round(np.std(values),round)]\n",
    "            self.mean = [np.round(np.mean(values),round)]\n",
    "        self.round = round\n",
    "        self.name = name\n",
    "        if polate_num != None:\n",
    "            self.p_num = [polate_num]\n",
    "        else:\n",
    "            self.p_num = []\n",
    "    def append(self,values,polate_num = None):\n",
    "        round = self.round\n",
    "        self.std.append(np.round(np.std(values),round))\n",
    "        self.mean.append(np.round(np.mean(values),round))\n",
    "        if polate_num != None:\n",
    "            self.p_num.append(polate_num)\n",
    "        "
   ]
  },
  {
   "cell_type": "code",
   "execution_count": 23,
   "metadata": {},
   "outputs": [],
   "source": [
    "IBM_list = []\n",
    "for i in service.backends(simulator = False):\n",
    "    IBM_list.append(IBM_analy([],name=i.name))"
   ]
  },
  {
   "cell_type": "code",
   "execution_count": 24,
   "metadata": {},
   "outputs": [],
   "source": [
    "initial_state = '1111'\n",
    "num_qubits = 4\n",
    "qc = QuantumCircuit(num_qubits)\n",
    "qc.initialize(initial_state)\n",
    "qc = qc.decompose(reps=1)\n",
    "REM_list = []\n",
    "exact_data = []\n",
    "list_ = []\n",
    "Raw_data = []\n",
    "Meas = Measure_basis(num_qubits)\n",
    "Ham = Hamiltonian1(num_qubits,h=0.3)"
   ]
  },
  {
   "cell_type": "code",
   "execution_count": 25,
   "metadata": {},
   "outputs": [
    {
     "name": "stdout",
     "output_type": "stream",
     "text": [
      "Exact data :  [-1.53528]\n",
      "결과 : [-0.066 -0.082  0.101 -0.035  0.108  0.246 -0.053 -0.199  0.033  0.089\n",
      " -0.168  0.107  0.13   0.144  0.254 -0.036 -0.106  0.272  0.072  0.218]\n",
      "백엔드 : <IBMBackend('ibm_perth')> , 표준편차 : 0.13678686888733144\n",
      "최대 - 최소 : 0.47100000000000003\n",
      "\n",
      "\n",
      "결과 : [-0.369 -0.377 -0.384 -0.363 -0.381 -0.382 -0.37  -0.373 -0.372 -0.378\n",
      " -0.375 -0.373 -0.36  -0.383 -0.372 -0.379 -0.349 -0.37  -0.377 -0.37 ]\n",
      "백엔드 : <IBMBackend('ibm_brisbane')> , 표준편차 : 0.008223594104769527\n",
      "최대 - 최소 : 0.03500000000000003\n",
      "\n",
      "\n",
      "결과 : [-0.277 -0.241 -0.2   -0.257 -0.142 -0.235 -0.226 -0.279 -0.274 -0.298\n",
      " -0.344 -0.224 -0.315 -0.238 -0.124 -0.252 -0.271 -0.174 -0.237 -0.281]\n",
      "백엔드 : <IBMBackend('ibm_nairobi')> , 표준편차 : 0.05293248057667428\n",
      "최대 - 최소 : 0.21999999999999997\n",
      "\n",
      "\n",
      "결과 : [-0.149 -0.185 -0.016 -0.241 -0.119 -0.176 -0.237 -0.252 -0.121 -0.145\n",
      " -0.074 -0.161 -0.15  -0.146 -0.165 -0.229 -0.181 -0.16  -0.081 -0.13 ]\n",
      "백엔드 : <IBMBackend('ibm_lagos')> , 표준편차 : 0.05737760887314841\n",
      "최대 - 최소 : 0.236\n",
      "\n",
      "\n"
     ]
    }
   ],
   "source": [
    "k = 3\n",
    "polate_num = 3\n",
    "B = hubard_trotter(num_qubits,2,1*k,Hamiltonian=Ham,initial_state=initial_state).extra_polate(polate_num)\n",
    "exact_data = get_expectaion_value_Sim(Meas,B)\n",
    "print(\"Exact data : \", exact_data)\n",
    "index = 0\n",
    "for i in service.backends(simulator = False):\n",
    "    result_list = []\n",
    "    backend = i\n",
    "    if backend.num_qubits<num_qubits:\n",
    "        index +=1\n",
    "        continue\n",
    "    try:\n",
    "        backend_sim = AerSimulator.from_backend(backend)\n",
    "    except:\n",
    "        index +=1\n",
    "        continue\n",
    "    for j in range(20):\n",
    "        result_list.append(get_expectaion_value_real(Meas,B))\n",
    "    result_list = np.round(result_list,3)\n",
    "    IBM_list[index].append(result_list,polate_num)\n",
    "    print(f\"결과 : {result_list}\")\n",
    "    std = np.std(result_list)\n",
    "    print(f\"백엔드 : {i} , 표준편차 : {std}\")\n",
    "    print(f\"최대 - 최소 : {np.max(result_list)-np.min(result_list)}\")\n",
    "    print(\"\\n\")\n",
    "    index +=1"
   ]
  },
  {
   "cell_type": "code",
   "execution_count": 26,
   "metadata": {},
   "outputs": [],
   "source": [
    "min = 1000\n",
    "max = 0\n",
    "index = 0\n",
    "min_dex = 0\n",
    "max_dex = 0\n",
    "for i in IBM_list:\n",
    "    try:\n",
    "        if min>i.std[0]:\n",
    "            min = i.std\n",
    "            min_dex = index\n",
    "        if max<i.std[0]:\n",
    "            max = i.std\n",
    "            max_dex = index\n",
    "        index+=1\n",
    "    except:\n",
    "        index +=1 "
   ]
  },
  {
   "cell_type": "code",
   "execution_count": 169,
   "metadata": {},
   "outputs": [],
   "source": [
    "backend = service.backend(IBM_list[min_dex].name)\n",
    "backend_sim = AerSimulator.from_backend(backend)"
   ]
  },
  {
   "cell_type": "code",
   "execution_count": 28,
   "metadata": {},
   "outputs": [],
   "source": [
    "backend = service.backend(IBM_list[max_dex].name)\n",
    "backend_sim = AerSimulator.from_backend(backend)"
   ]
  },
  {
   "cell_type": "code",
   "execution_count": 111,
   "metadata": {},
   "outputs": [],
   "source": [
    "def REM_exp_ham(initial_state,step,ref_value = -0.23):\n",
    "    if ref_value == -0.23:\n",
    "        ref_value = 0\n",
    "        for i in initial_state:\n",
    "            if i =='1':\n",
    "                ref_value -=1\n",
    "            else:\n",
    "                ref_value +=1\n",
    "    Meas = Measure_basis(len(initial_state))\n",
    "    REM_circ = hubard_trotter(len(initial_state),step,0,Hamiltonian=Ham,initial_state=initial_state).circ()\n",
    "    REM_circ = REM_circ.decompose(reps=3)\n",
    "    REM_circ = transpile(REM_circ,optimization_level=0)\n",
    "    value = get_expectaion_value_real(Ham,REM_circ)\n",
    "    return ref_value - value"
   ]
  },
  {
   "cell_type": "code",
   "execution_count": 113,
   "metadata": {},
   "outputs": [],
   "source": [
    "def REM_exp_meas(initial_state,step,ref_value = -0.23):\n",
    "    if ref_value == -0.23:\n",
    "        ref_value = 0\n",
    "        for i in initial_state:\n",
    "            if i =='1':\n",
    "                ref_value -=1\n",
    "            else:\n",
    "                ref_value +=1\n",
    "    Meas = Measure_basis(len(initial_state))\n",
    "    REM_circ = hubard_trotter(len(initial_state),step,0,Hamiltonian=Ham,initial_state=initial_state).circ()\n",
    "    REM_circ = REM_circ.decompose(reps=3)\n",
    "    REM_circ = transpile(REM_circ,optimization_level=0)\n",
    "    value = get_expectaion_value_real(Meas,REM_circ)\n",
    "    return ref_value - value"
   ]
  },
  {
   "cell_type": "code",
   "execution_count": 185,
   "metadata": {},
   "outputs": [],
   "source": [
    "def REM_exp_append(initial_state,circ,ref_value = -0.23):\n",
    "    temp_circ = circ.copy()\n",
    "    if ref_value == -0.23:\n",
    "        ref_value = 0\n",
    "        for i in initial_state:\n",
    "            if i =='1':\n",
    "                ref_value -=1\n",
    "            else:\n",
    "                ref_value +=1\n",
    "    Meas = Measure_basis(len(initial_state))\n",
    "    temp_circ.append(PauliEvolutionGate(Ham,time=0),circ.qubits)\n",
    "    value = get_expectaion_value_real(Meas,temp_circ)\n",
    "    return ref_value - value"
   ]
  },
  {
   "cell_type": "code",
   "execution_count": null,
   "metadata": {},
   "outputs": [],
   "source": [
    "def get_statevector(qc, paras):\n",
    "    index = 0\n",
    "    for i in qc.parameters:\n",
    "        qc = qc.bind_parameters({i:paras[index]})\n",
    "        index+=1\n",
    "    qc.save_statevector()\n",
    "    job = execute(qc, simulator)\n",
    "    job_result = job.result()\n",
    "    res = job_result\n",
    "    return res"
   ]
  },
  {
   "cell_type": "code",
   "execution_count": 181,
   "metadata": {},
   "outputs": [],
   "source": [
    "backend = FakeKolkata()\n",
    "backend_sim = AerSimulator.from_backend(backend)"
   ]
  },
  {
   "cell_type": "markdown",
   "metadata": {},
   "source": [
    "## for step REM"
   ]
  },
  {
   "cell_type": "code",
   "execution_count": 170,
   "metadata": {},
   "outputs": [
    {
     "data": {
      "text/plain": [
       "<matplotlib.legend.Legend at 0x17cad95f4c8>"
      ]
     },
     "execution_count": 170,
     "metadata": {},
     "output_type": "execute_result"
    },
    {
     "data": {
      "image/png": "[encoded data removed]",
      "text/plain": [
       "<Figure size 640x480 with 1 Axes>"
      ]
     },
     "metadata": {},
     "output_type": "display_data"
    }
   ],
   "source": [
    "initial_state = '111111'\n",
    "num_qubits = 6\n",
    "steps = 5\n",
    "qc = QuantumCircuit(num_qubits)\n",
    "qc.initialize(initial_state)\n",
    "qc = qc.decompose(reps=1)\n",
    "REM_list = []\n",
    "exact_data = []\n",
    "list_ = []\n",
    "Raw_data = []\n",
    "Meas = Measure_basis(num_qubits)\n",
    "Ham = Hamiltonian1(num_qubits,h=0.3)\n",
    "\n",
    "step_list = [int(i) for i in range(5,12)]\n",
    "circ_list = []\n",
    "for i in step_list:\n",
    "    circ_list.append(hubard_trotter(num_qubits,i,0.3,Hamiltonian=Ham,initial_state=initial_state).circ())\n",
    "\n",
    "\n",
    "for i in range(len(step_list)):\n",
    "    exact_data.append(get_expectaion_value_Sim(Ham,circ_list[i]))\n",
    "\n",
    "for i in range(len(step_list)):\n",
    "    Raw_data.append(get_expectaion_value_real(Ham,circ_list[i]))\n",
    "\n",
    "for i in range(len(step_list)):\n",
    "    REM = REM_exp_ham(initial_state,step_list[i],exact_data[0])\n",
    "    REM_list.append(Raw_data[i]+REM)\n",
    "        \n",
    "plt.plot(step_list,exact_data,\"->\",label=\"exact\")\n",
    "plt.plot(step_list,REM_list,\"-->\",label=\"REM\")\n",
    "plt.plot(step_list,Raw_data,\"<--\",label=\"Raw_data\")\n",
    "plt.xlabel(\"noise factor\")\n",
    "plt.ylabel(\"expectation value\")\n",
    "plt.legend()\n",
    "\n"
   ]
  },
  {
   "cell_type": "markdown",
   "metadata": {},
   "source": [
    "## for time REM"
   ]
  },
  {
   "cell_type": "code",
   "execution_count": 193,
   "metadata": {},
   "outputs": [
    {
     "data": {
      "text/plain": [
       "<matplotlib.legend.Legend at 0x17cb04db048>"
      ]
     },
     "execution_count": 193,
     "metadata": {},
     "output_type": "execute_result"
    },
    {
     "data": {
      "image/png": "[encoded data removed]",
      "text/plain": [
       "<Figure size 640x480 with 1 Axes>"
      ]
     },
     "metadata": {},
     "output_type": "display_data"
    }
   ],
   "source": [
    "initial_state = '111111'\n",
    "num_qubits = 6\n",
    "steps = 5\n",
    "qc = QuantumCircuit(num_qubits)\n",
    "qc.initialize(initial_state)\n",
    "qc = qc.decompose(reps=1)\n",
    "REM_list = []\n",
    "exact_data = []\n",
    "list_ = []\n",
    "Raw_data = []\n",
    "Meas = Measure_basis(num_qubits)\n",
    "Ham = Hamiltonian1(num_qubits,h=0.3)\n",
    "\n",
    "time_list = [int(i) for i in range(1,12)]\n",
    "circ_list = []\n",
    "circ_list_REM = []\n",
    "for i in time_list:\n",
    "    circ_list.append(hubard_trotter(num_qubits,steps+i,0.4*i,Hamiltonian=Ham,initial_state=initial_state).circ())\n",
    "for i in time_list:\n",
    "    circ_list_REM.append(hubard_trotter(num_qubits,steps-1+i,0.4*i,Hamiltonian=Ham,initial_state=initial_state).circ())\n",
    "\n",
    "for i in range(len(time_list)):\n",
    "    exact_data.append(get_expectaion_value_Sim(Meas,circ_list[i]))\n",
    "\n",
    "for i in range(len(time_list)):\n",
    "    Raw_data.append(get_expectaion_value_real(Meas,circ_list[i]))\n",
    "\n",
    "for i in range(len(time_list)):\n",
    "    if i == 0:\n",
    "        REM = REM_exp_meas(initial_state,steps)\n",
    "        REM_list.append(Raw_data[i]+REM)\n",
    "        ref = Raw_data[i]+REM\n",
    "    else:\n",
    "        REM = REM_exp_append(initial_state,circ_list_REM[i-1],ref)\n",
    "        REM_list.append(Raw_data[i]+REM)\n",
    "        ref = Raw_data[i]+REM\n",
    "        \n",
    "plt.plot(time_list,exact_data,\"->\",label=\"exact\")\n",
    "plt.plot(time_list,REM_list,\"-->\",label=\"REM\")\n",
    "plt.plot(time_list,Raw_data,\"<--\",label=\"Raw_data\")\n",
    "plt.xlabel(\"noise factor\")\n",
    "plt.ylabel(\"expectation value\")\n",
    "plt.legend()"
   ]
  },
  {
   "cell_type": "code",
   "execution_count": 188,
   "metadata": {},
   "outputs": [
    {
     "data": {
      "text/plain": [
       "<matplotlib.legend.Legend at 0x17cab888548>"
      ]
     },
     "execution_count": 188,
     "metadata": {},
     "output_type": "execute_result"
    },
    {
     "data": {
      "image/png": "[encoded data removed]",
      "text/plain": [
       "<Figure size 640x480 with 1 Axes>"
      ]
     },
     "metadata": {},
     "output_type": "display_data"
    }
   ],
   "source": [
    "initial_state = '111111'\n",
    "num_qubits = 6\n",
    "steps = 5\n",
    "qc = QuantumCircuit(num_qubits)\n",
    "qc.initialize(initial_state)\n",
    "qc = qc.decompose(reps=1)\n",
    "REM_list = []\n",
    "exact_data = []\n",
    "list_ = []\n",
    "Raw_data = []\n",
    "Meas = Measure_basis(num_qubits)\n",
    "Ham = Hamiltonian1(num_qubits,h=0.3)\n",
    "\n",
    "time_list = [int(i) for i in range(1,12)]\n",
    "circ_list = []\n",
    "circ_list_REM = []\n",
    "for i in time_list:\n",
    "    circ_list.append(hubard_trotter(num_qubits,steps+i,0.4*i,Hamiltonian=Ham,initial_state=initial_state).circ())\n",
    "for i in time_list:\n",
    "    circ_list_REM.append(hubard_trotter(num_qubits,steps-1+i,0.4*i,Hamiltonian=Ham,initial_state=initial_state).circ())\n",
    "\n",
    "for i in range(len(time_list)):\n",
    "    exact_data.append(get_expectaion_value_Sim(Meas,circ_list[i]))\n",
    "\n",
    "for i in range(len(time_list)):\n",
    "    Raw_data.append(get_expectaion_value_real(Meas,circ_list[i]))\n",
    "\n",
    "for i in range(len(time_list)):\n",
    "    if i == 0:\n",
    "        REM = REM_exp_meas(initial_state,steps)\n",
    "        REM_list.append(Raw_data[i]+REM)\n",
    "        ref = Raw_data[i]+REM\n",
    "    else:\n",
    "        REM = REM_exp_append(initial_state,circ_list_REM[i-1],ref)\n",
    "        REM_list.append(Raw_data[i]+REM)\n",
    "        ref = Raw_data[i]+REM\n",
    "        \n",
    "plt.plot(time_list,exact_data,\"->\",label=\"exact\")\n",
    "plt.plot(time_list,REM_list,\"-->\",label=\"REM\")\n",
    "plt.plot(time_list,Raw_data,\"<--\",label=\"Raw_data\")\n",
    "plt.xlabel(\"noise factor\")\n",
    "plt.ylabel(\"expectation value\")\n",
    "plt.legend()"
   ]
  },
  {
   "cell_type": "code",
   "execution_count": 176,
   "metadata": {},
   "outputs": [
    {
     "data": {
      "text/plain": [
       "<matplotlib.legend.Legend at 0x17cabd92808>"
      ]
     },
     "execution_count": 176,
     "metadata": {},
     "output_type": "execute_result"
    },
    {
     "data": {
      "image/png": "[encoded data removed]",
      "text/plain": [
       "<Figure size 640x480 with 1 Axes>"
      ]
     },
     "metadata": {},
     "output_type": "display_data"
    }
   ],
   "source": [
    "initial_state = '111111'\n",
    "num_qubits = 6\n",
    "steps = 5\n",
    "qc = QuantumCircuit(num_qubits)\n",
    "qc.initialize(initial_state)\n",
    "qc = qc.decompose(reps=1)\n",
    "REM_list = []\n",
    "exact_data = []\n",
    "list_ = []\n",
    "Raw_data = []\n",
    "Meas = Measure_basis(num_qubits)\n",
    "Ham = Hamiltonian1(num_qubits,h=0.3)\n",
    "\n",
    "time_list = [int(i) for i in range(1,12)]\n",
    "circ_list = []\n",
    "circ_list_REM = []\n",
    "for i in time_list:\n",
    "    circ_list.append(hubard_trotter(num_qubits,steps,0.2*i,Hamiltonian=Ham,initial_state=initial_state).circ())\n",
    "for i in time_list:\n",
    "    circ_list_REM.append(hubard_trotter(num_qubits,steps-1,0.2*i,Hamiltonian=Ham,initial_state=initial_state).circ())\n",
    "\n",
    "for i in range(len(time_list)):\n",
    "    exact_data.append(get_expectaion_value_Sim(Meas,circ_list[i]))\n",
    "\n",
    "for i in range(len(time_list)):\n",
    "    Raw_data.append(get_expectaion_value_real(Meas,circ_list[i]))\n",
    "\n",
    "for i in range(len(time_list)):\n",
    "    if i == 0:\n",
    "        REM = REM_exp_meas(initial_state,steps)\n",
    "        REM_list.append(Raw_data[i]+REM)\n",
    "        ref = Raw_data[i]+REM\n",
    "    else:\n",
    "        REM = REM_exp_meas(initial_state,steps)\n",
    "        REM_list.append(Raw_data[i]+REM)\n",
    "        ref = Raw_data[i]+REM\n",
    "        \n",
    "plt.plot(time_list,exact_data,\"->\",label=\"exact\")\n",
    "plt.plot(time_list,REM_list,\"-->\",label=\"REM\")\n",
    "plt.plot(time_list,Raw_data,\"<--\",label=\"Raw_data\")\n",
    "plt.xlabel(\"noise factor\")\n",
    "plt.ylabel(\"expectation value\")\n",
    "plt.legend()"
   ]
  },
  {
   "cell_type": "code",
   "execution_count": null,
   "metadata": {},
   "outputs": [],
   "source": []
  }
 ],
 "metadata": {
  "kernelspec": {
   "display_name": "name_of_my_env",
   "language": "python",
   "name": "python3"
  },
  "language_info": {
   "codemirror_mode": {
    "name": "ipython",
    "version": 3
   },
   "file_extension": ".py",
   "mimetype": "text/x-python",
   "name": "python",
   "nbconvert_exporter": "python",
   "pygments_lexer": "ipython3",
   "version": "3.7.16"
  },
  "orig_nbformat": 4
 },
 "nbformat": 4,
 "nbformat_minor": 2
}
